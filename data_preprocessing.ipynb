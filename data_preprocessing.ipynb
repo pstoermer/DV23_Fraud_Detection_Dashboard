{
 "cells": [
  {
   "cell_type": "code",
   "execution_count": 2,
   "id": "6e056871",
   "metadata": {
    "ExecuteTime": {
     "end_time": "2023-07-08T15:46:16.810458Z",
     "start_time": "2023-07-08T15:46:16.650999Z"
    }
   },
   "outputs": [],
   "source": [
    "import pandas as pd"
   ]
  },
  {
   "cell_type": "code",
   "execution_count": 9,
   "id": "4097aca2",
   "metadata": {
    "ExecuteTime": {
     "end_time": "2023-07-08T15:47:15.192941Z",
     "start_time": "2023-07-08T15:47:11.521739Z"
    }
   },
   "outputs": [
    {
     "name": "stdout",
     "output_type": "stream",
     "text": [
      "Shape of the DataFrame: (11565, 34)\n",
      "Columns of the DataFrame: ['Month', 'WeekOfMonth', 'DayOfWeek', 'Make', 'AccidentArea', 'DayOfWeekClaimed', 'MonthClaimed', 'WeekOfMonthClaimed', 'Sex', 'MaritalStatus', 'Age', 'Fault', 'PolicyType', 'VehicleCategory', 'VehiclePrice', 'FraudFound_P', 'PolicyNumber', 'RepNumber', 'Deductible', 'DriverRating', 'Days_Policy_Accident', 'Days_Policy_Claim', 'PastNumberOfClaims', 'AgeOfVehicle', 'AgeOfPolicyHolder', 'PoliceReportFiled', 'WitnessPresent', 'AgentType', 'NumberOfSuppliments', 'AddressChange_Claim', 'NumberOfCars', 'Year', 'BasePolicy', 'ClaimSize']\n"
     ]
    },
    {
     "data": {
      "text/plain": "  Month  WeekOfMonth  DayOfWeek    Make AccidentArea DayOfWeekClaimed  \\\n0   Dec            5  Wednesday   Honda        Urban          Tuesday   \n1   Jan            3  Wednesday   Honda        Urban           Monday   \n2   Oct            5     Friday   Honda        Urban         Thursday   \n3   Jun            2   Saturday  Toyota        Rural           Friday   \n4   Feb            1   Saturday   Honda        Urban           Monday   \n\n  MonthClaimed  WeekOfMonthClaimed     Sex MaritalStatus  ...  \\\n0          Jan                   1  Female        Single  ...   \n1          Jan                   4    Male        Single  ...   \n2          Nov                   2    Male       Married  ...   \n3          Jul                   1    Male       Married  ...   \n4          Feb                   3    Male       Married  ...   \n\n   AgeOfPolicyHolder PoliceReportFiled WitnessPresent AgentType  \\\n0           26 to 30                No             No  External   \n1           31 to 35               Yes             No  External   \n2           41 to 50                No             No  External   \n3           51 to 65               Yes             No  External   \n4           36 to 40                No             No  External   \n\n  NumberOfSuppliments  AddressChange_Claim  NumberOfCars  Year  BasePolicy  \\\n0                none               1 year        3 to 4  1994   Liability   \n1                none            no change     1 vehicle  1994   Collision   \n2                none            no change     1 vehicle  1994   Collision   \n3         more than 5            no change     1 vehicle  1994   Liability   \n4              1 to 2            no change     1 vehicle  1994   Collision   \n\n      ClaimSize  \n0  55526.069421  \n1  59294.455571  \n2  71756.941320  \n3   7584.153493  \n4  98545.374339  \n\n[5 rows x 34 columns]",
      "text/html": "<div>\n<style scoped>\n    .dataframe tbody tr th:only-of-type {\n        vertical-align: middle;\n    }\n\n    .dataframe tbody tr th {\n        vertical-align: top;\n    }\n\n    .dataframe thead th {\n        text-align: right;\n    }\n</style>\n<table border=\"1\" class=\"dataframe\">\n  <thead>\n    <tr style=\"text-align: right;\">\n      <th></th>\n      <th>Month</th>\n      <th>WeekOfMonth</th>\n      <th>DayOfWeek</th>\n      <th>Make</th>\n      <th>AccidentArea</th>\n      <th>DayOfWeekClaimed</th>\n      <th>MonthClaimed</th>\n      <th>WeekOfMonthClaimed</th>\n      <th>Sex</th>\n      <th>MaritalStatus</th>\n      <th>...</th>\n      <th>AgeOfPolicyHolder</th>\n      <th>PoliceReportFiled</th>\n      <th>WitnessPresent</th>\n      <th>AgentType</th>\n      <th>NumberOfSuppliments</th>\n      <th>AddressChange_Claim</th>\n      <th>NumberOfCars</th>\n      <th>Year</th>\n      <th>BasePolicy</th>\n      <th>ClaimSize</th>\n    </tr>\n  </thead>\n  <tbody>\n    <tr>\n      <th>0</th>\n      <td>Dec</td>\n      <td>5</td>\n      <td>Wednesday</td>\n      <td>Honda</td>\n      <td>Urban</td>\n      <td>Tuesday</td>\n      <td>Jan</td>\n      <td>1</td>\n      <td>Female</td>\n      <td>Single</td>\n      <td>...</td>\n      <td>26 to 30</td>\n      <td>No</td>\n      <td>No</td>\n      <td>External</td>\n      <td>none</td>\n      <td>1 year</td>\n      <td>3 to 4</td>\n      <td>1994</td>\n      <td>Liability</td>\n      <td>55526.069421</td>\n    </tr>\n    <tr>\n      <th>1</th>\n      <td>Jan</td>\n      <td>3</td>\n      <td>Wednesday</td>\n      <td>Honda</td>\n      <td>Urban</td>\n      <td>Monday</td>\n      <td>Jan</td>\n      <td>4</td>\n      <td>Male</td>\n      <td>Single</td>\n      <td>...</td>\n      <td>31 to 35</td>\n      <td>Yes</td>\n      <td>No</td>\n      <td>External</td>\n      <td>none</td>\n      <td>no change</td>\n      <td>1 vehicle</td>\n      <td>1994</td>\n      <td>Collision</td>\n      <td>59294.455571</td>\n    </tr>\n    <tr>\n      <th>2</th>\n      <td>Oct</td>\n      <td>5</td>\n      <td>Friday</td>\n      <td>Honda</td>\n      <td>Urban</td>\n      <td>Thursday</td>\n      <td>Nov</td>\n      <td>2</td>\n      <td>Male</td>\n      <td>Married</td>\n      <td>...</td>\n      <td>41 to 50</td>\n      <td>No</td>\n      <td>No</td>\n      <td>External</td>\n      <td>none</td>\n      <td>no change</td>\n      <td>1 vehicle</td>\n      <td>1994</td>\n      <td>Collision</td>\n      <td>71756.941320</td>\n    </tr>\n    <tr>\n      <th>3</th>\n      <td>Jun</td>\n      <td>2</td>\n      <td>Saturday</td>\n      <td>Toyota</td>\n      <td>Rural</td>\n      <td>Friday</td>\n      <td>Jul</td>\n      <td>1</td>\n      <td>Male</td>\n      <td>Married</td>\n      <td>...</td>\n      <td>51 to 65</td>\n      <td>Yes</td>\n      <td>No</td>\n      <td>External</td>\n      <td>more than 5</td>\n      <td>no change</td>\n      <td>1 vehicle</td>\n      <td>1994</td>\n      <td>Liability</td>\n      <td>7584.153493</td>\n    </tr>\n    <tr>\n      <th>4</th>\n      <td>Feb</td>\n      <td>1</td>\n      <td>Saturday</td>\n      <td>Honda</td>\n      <td>Urban</td>\n      <td>Monday</td>\n      <td>Feb</td>\n      <td>3</td>\n      <td>Male</td>\n      <td>Married</td>\n      <td>...</td>\n      <td>36 to 40</td>\n      <td>No</td>\n      <td>No</td>\n      <td>External</td>\n      <td>1 to 2</td>\n      <td>no change</td>\n      <td>1 vehicle</td>\n      <td>1994</td>\n      <td>Collision</td>\n      <td>98545.374339</td>\n    </tr>\n  </tbody>\n</table>\n<p>5 rows × 34 columns</p>\n</div>"
     },
     "execution_count": 9,
     "metadata": {},
     "output_type": "execute_result"
    }
   ],
   "source": [
    "# Define the path to the Excel file\n",
    "file_path = \"./data/Dataset.xlsx\"\n",
    "# Read the Excel file into a pandas DataFrame\n",
    "car_insur_df = pd.read_excel(file_path, sheet_name=\"Sheet1\")\n",
    "# Print the shape of the DataFrame\n",
    "print(f\"Shape of the DataFrame: {car_insur_df.shape}\")\n",
    "# Print the column names of the DataFrame\n",
    "print(f\"Columns of the DataFrame: {list(car_insur_df.columns)}\")\n",
    "# Display the first five rows of the DataFrame\n",
    "car_insur_df.head()"
   ]
  },
  {
   "cell_type": "markdown",
   "id": "9cf497a5",
   "metadata": {},
   "source": [
    "# Data Cleaning\n",
    "## Remove rows with missing values\n"
   ]
  },
  {
   "cell_type": "code",
   "execution_count": 10,
   "outputs": [
    {
     "name": "stdout",
     "output_type": "stream",
     "text": [
      "(11565, 34)\n",
      "(11554, 34)\n"
     ]
    }
   ],
   "source": [
    "print(car_insur_df.shape)\n",
    "car_insur_df = car_insur_df.dropna()\n",
    "print(car_insur_df.shape)"
   ],
   "metadata": {
    "collapsed": false,
    "ExecuteTime": {
     "end_time": "2023-07-08T15:47:15.195377Z",
     "start_time": "2023-07-08T15:47:15.048823Z"
    }
   }
  },
  {
   "cell_type": "markdown",
   "source": [
    "## Remove column \"Age\" due to invalid zero values"
   ],
   "metadata": {
    "collapsed": false
   }
  },
  {
   "cell_type": "code",
   "execution_count": 11,
   "id": "9d87a815",
   "metadata": {
    "ExecuteTime": {
     "end_time": "2023-07-08T15:47:15.206985Z",
     "start_time": "2023-07-08T15:47:15.064141Z"
    }
   },
   "outputs": [
    {
     "data": {
      "text/plain": "AgeOfPolicyHolder\n31 to 35    4191\n36 to 40    3005\n41 to 50    2119\n51 to 65    1067\n26 to 30     445\nover 65      388\n21 to 25      73\n18 to 20      13\nName: count, dtype: int64"
     },
     "execution_count": 11,
     "metadata": {},
     "output_type": "execute_result"
    }
   ],
   "source": [
    "car_insur_df[car_insur_df.Age != 0][\"AgeOfPolicyHolder\"].value_counts()"
   ]
  },
  {
   "cell_type": "code",
   "execution_count": 12,
   "id": "02c606b9",
   "metadata": {
    "ExecuteTime": {
     "end_time": "2023-07-08T15:47:15.213704Z",
     "start_time": "2023-07-08T15:47:15.127336Z"
    }
   },
   "outputs": [],
   "source": [
    "del car_insur_df[\"Age\"]"
   ]
  },
  {
   "cell_type": "markdown",
   "id": "f3e88164",
   "metadata": {},
   "source": [
    "## Remove row with invalid value 0 for MonthClaimed"
   ]
  },
  {
   "cell_type": "code",
   "execution_count": 13,
   "id": "b2dba4e9",
   "metadata": {
    "ExecuteTime": {
     "end_time": "2023-07-08T15:47:15.213930Z",
     "start_time": "2023-07-08T15:47:15.128444Z"
    }
   },
   "outputs": [],
   "source": [
    "car_insur_df = car_insur_df[car_insur_df.MonthClaimed != 0]"
   ]
  },
  {
   "cell_type": "markdown",
   "id": "91337779",
   "metadata": {},
   "source": [
    "## Remove redundant columns"
   ]
  },
  {
   "cell_type": "code",
   "execution_count": 14,
   "id": "c9e9070a",
   "metadata": {
    "ExecuteTime": {
     "end_time": "2023-07-08T15:47:15.214067Z",
     "start_time": "2023-07-08T15:47:15.134044Z"
    }
   },
   "outputs": [],
   "source": [
    "# PolicyType is a combination of VehicleType and BasePolicy\n",
    "del car_insur_df[\"PolicyType\"]"
   ]
  },
  {
   "cell_type": "markdown",
   "source": [
    "## Get Date for Claims and Accidents"
   ],
   "metadata": {
    "collapsed": false
   }
  },
  {
   "cell_type": "code",
   "execution_count": 15,
   "outputs": [],
   "source": [
    "from datetime import datetime, timedelta\n",
    "\n",
    "\n",
    "def get_date(year, month, week_of_month, day_of_week):\n",
    "    # Create a dictionary to map the month and day of the week strings to their corresponding integers\n",
    "    date_dict = {\n",
    "        \"Jan\": 1,\n",
    "        \"Feb\": 2,\n",
    "        \"Mar\": 3,\n",
    "        \"Apr\": 4,\n",
    "        \"May\": 5,\n",
    "        \"Jun\": 6,\n",
    "        \"Jul\": 7,\n",
    "        \"Aug\": 8,\n",
    "        \"Sep\": 9,\n",
    "        \"Oct\": 10,\n",
    "        \"Nov\": 11,\n",
    "        \"Dec\": 12,\n",
    "        \"Monday\": 0,\n",
    "        \"Tuesday\": 1,\n",
    "        \"Wednesday\": 2,\n",
    "        \"Thursday\": 3,\n",
    "        \"Friday\": 4,\n",
    "        \"Saturday\": 5,\n",
    "        \"Sunday\": 6,\n",
    "    }\n",
    "\n",
    "    # Check if the month and day of the week strings are valid\n",
    "    if month not in date_dict or day_of_week not in date_dict:\n",
    "        raise ValueError(\"Invalid month or day of the week\")\n",
    "\n",
    "    # Calculate the starting date of the month\n",
    "    first_day_of_month = datetime(year, date_dict[month], 1)\n",
    "\n",
    "    # Find the first occurrence of the given day of the week in the month\n",
    "    current_date = first_day_of_month\n",
    "    while current_date.weekday() != date_dict[day_of_week]:\n",
    "        current_date += timedelta(days=1)\n",
    "\n",
    "    # Calculate the target date by adding the week offset\n",
    "    target_date = current_date + timedelta(weeks=week_of_month - 1)\n",
    "\n",
    "    # Check if the target date is in the same month as the first occurrence of the day of the week\n",
    "    if target_date.month != current_date.month:\n",
    "        target_date -= timedelta(weeks=1)\n",
    "\n",
    "    return target_date\n",
    "\n",
    "\n",
    "def calculate_accident_dates(df):\n",
    "    accident_dates = []\n",
    "    for _, row in df.iterrows():\n",
    "        year, month, week_of_month, day_of_week = (\n",
    "            row[\"Year\"],\n",
    "            row[\"Month\"],\n",
    "            row[\"WeekOfMonth\"],\n",
    "            row[\"DayOfWeek\"],\n",
    "        )\n",
    "        accident_date = get_date(year, month, week_of_month, day_of_week)\n",
    "        accident_dates.append(accident_date)\n",
    "    df[\"AccidentDate\"] = accident_dates\n",
    "    return df\n",
    "\n",
    "\n",
    "def calculate_claim_dates(df):\n",
    "    claim_dates = []\n",
    "    for _, row in df.iterrows():\n",
    "        month_claimed, week_of_month_claimed, day_of_week_claimed = (\n",
    "            row[\"MonthClaimed\"],\n",
    "            row[\"WeekOfMonthClaimed\"],\n",
    "            row[\"DayOfWeekClaimed\"],\n",
    "        )\n",
    "        accident_date = row[\"AccidentDate\"]\n",
    "        # If the month claimed is before the accident month, add one year to the accident year\n",
    "        if accident_date.month > datetime.strptime(month_claimed, \"%b\").month:\n",
    "            year_claimed = accident_date.year + 1\n",
    "        else:\n",
    "            year_claimed = accident_date.year\n",
    "        claim_date = get_date(\n",
    "            year_claimed, month_claimed, week_of_month_claimed, day_of_week_claimed\n",
    "        )\n",
    "        claim_dates.append(claim_date)\n",
    "    df[\"ClaimDate\"] = claim_dates\n",
    "    return df\n",
    "\n",
    "\n",
    "def calculate_days_between_dates(df):\n",
    "    df[\"DaysAccidentClaim\"] = (df[\"ClaimDate\"] - df[\"AccidentDate\"]).dt.days\n",
    "    return df\n",
    "\n",
    "\n",
    "def calculate_dates(df):\n",
    "    df = calculate_accident_dates(df)\n",
    "    df = calculate_claim_dates(df)\n",
    "    df = calculate_days_between_dates(df)\n",
    "    return df\n",
    "\n",
    "\n",
    "car_insur_df = calculate_dates(car_insur_df)"
   ],
   "metadata": {
    "collapsed": false,
    "ExecuteTime": {
     "end_time": "2023-07-08T15:47:16.236189Z",
     "start_time": "2023-07-08T15:47:15.147655Z"
    }
   }
  },
  {
   "cell_type": "code",
   "execution_count": 16,
   "id": "2167d301",
   "metadata": {
    "ExecuteTime": {
     "end_time": "2023-07-08T15:47:16.237617Z",
     "start_time": "2023-07-08T15:47:16.225832Z"
    }
   },
   "outputs": [
    {
     "data": {
      "text/plain": "DaysAccidentClaim\n1      1516\n0      1499\n2       870\n3       683\n4       545\n       ... \n109       1\n163       1\n247       1\n170       1\n278       1\nName: count, Length: 209, dtype: int64"
     },
     "execution_count": 16,
     "metadata": {},
     "output_type": "execute_result"
    }
   ],
   "source": [
    "car_insur_df.DaysAccidentClaim.value_counts()"
   ]
  },
  {
   "cell_type": "code",
   "execution_count": 17,
   "outputs": [
    {
     "data": {
      "text/plain": "  Month  WeekOfMonth  DayOfWeek   Make AccidentArea DayOfWeekClaimed  \\\n0   Dec            5  Wednesday  Honda        Urban          Tuesday   \n1   Jan            3  Wednesday  Honda        Urban           Monday   \n2   Oct            5     Friday  Honda        Urban         Thursday   \n\n  MonthClaimed  WeekOfMonthClaimed     Sex MaritalStatus  ... AgentType  \\\n0          Jan                   1  Female        Single  ...  External   \n1          Jan                   4    Male        Single  ...  External   \n2          Nov                   2    Male       Married  ...  External   \n\n  NumberOfSuppliments AddressChange_Claim  NumberOfCars  Year  BasePolicy  \\\n0                none              1 year        3 to 4  1994   Liability   \n1                none           no change     1 vehicle  1994   Collision   \n2                none           no change     1 vehicle  1994   Collision   \n\n      ClaimSize  AccidentDate  ClaimDate DaysAccidentClaim  \n0  55526.069421    1994-12-28 1995-01-03                 6  \n1  59294.455571    1994-01-19 1994-01-24                 5  \n2  71756.941320    1994-10-28 1994-11-10                13  \n\n[3 rows x 35 columns]",
      "text/html": "<div>\n<style scoped>\n    .dataframe tbody tr th:only-of-type {\n        vertical-align: middle;\n    }\n\n    .dataframe tbody tr th {\n        vertical-align: top;\n    }\n\n    .dataframe thead th {\n        text-align: right;\n    }\n</style>\n<table border=\"1\" class=\"dataframe\">\n  <thead>\n    <tr style=\"text-align: right;\">\n      <th></th>\n      <th>Month</th>\n      <th>WeekOfMonth</th>\n      <th>DayOfWeek</th>\n      <th>Make</th>\n      <th>AccidentArea</th>\n      <th>DayOfWeekClaimed</th>\n      <th>MonthClaimed</th>\n      <th>WeekOfMonthClaimed</th>\n      <th>Sex</th>\n      <th>MaritalStatus</th>\n      <th>...</th>\n      <th>AgentType</th>\n      <th>NumberOfSuppliments</th>\n      <th>AddressChange_Claim</th>\n      <th>NumberOfCars</th>\n      <th>Year</th>\n      <th>BasePolicy</th>\n      <th>ClaimSize</th>\n      <th>AccidentDate</th>\n      <th>ClaimDate</th>\n      <th>DaysAccidentClaim</th>\n    </tr>\n  </thead>\n  <tbody>\n    <tr>\n      <th>0</th>\n      <td>Dec</td>\n      <td>5</td>\n      <td>Wednesday</td>\n      <td>Honda</td>\n      <td>Urban</td>\n      <td>Tuesday</td>\n      <td>Jan</td>\n      <td>1</td>\n      <td>Female</td>\n      <td>Single</td>\n      <td>...</td>\n      <td>External</td>\n      <td>none</td>\n      <td>1 year</td>\n      <td>3 to 4</td>\n      <td>1994</td>\n      <td>Liability</td>\n      <td>55526.069421</td>\n      <td>1994-12-28</td>\n      <td>1995-01-03</td>\n      <td>6</td>\n    </tr>\n    <tr>\n      <th>1</th>\n      <td>Jan</td>\n      <td>3</td>\n      <td>Wednesday</td>\n      <td>Honda</td>\n      <td>Urban</td>\n      <td>Monday</td>\n      <td>Jan</td>\n      <td>4</td>\n      <td>Male</td>\n      <td>Single</td>\n      <td>...</td>\n      <td>External</td>\n      <td>none</td>\n      <td>no change</td>\n      <td>1 vehicle</td>\n      <td>1994</td>\n      <td>Collision</td>\n      <td>59294.455571</td>\n      <td>1994-01-19</td>\n      <td>1994-01-24</td>\n      <td>5</td>\n    </tr>\n    <tr>\n      <th>2</th>\n      <td>Oct</td>\n      <td>5</td>\n      <td>Friday</td>\n      <td>Honda</td>\n      <td>Urban</td>\n      <td>Thursday</td>\n      <td>Nov</td>\n      <td>2</td>\n      <td>Male</td>\n      <td>Married</td>\n      <td>...</td>\n      <td>External</td>\n      <td>none</td>\n      <td>no change</td>\n      <td>1 vehicle</td>\n      <td>1994</td>\n      <td>Collision</td>\n      <td>71756.941320</td>\n      <td>1994-10-28</td>\n      <td>1994-11-10</td>\n      <td>13</td>\n    </tr>\n  </tbody>\n</table>\n<p>3 rows × 35 columns</p>\n</div>"
     },
     "execution_count": 17,
     "metadata": {},
     "output_type": "execute_result"
    }
   ],
   "source": [
    "car_insur_df.head(3)"
   ],
   "metadata": {
    "collapsed": false,
    "ExecuteTime": {
     "end_time": "2023-07-08T15:47:16.244830Z",
     "start_time": "2023-07-08T15:47:16.243223Z"
    }
   }
  },
  {
   "cell_type": "code",
   "execution_count": 19,
   "id": "362a89e1",
   "metadata": {
    "ExecuteTime": {
     "end_time": "2023-07-08T15:49:09.301341Z",
     "start_time": "2023-07-08T15:49:09.204998Z"
    }
   },
   "outputs": [],
   "source": [
    "car_insur_df.to_csv(\"./data/car_insurance_data_cleaned.csv\", index=False)"
   ]
  },
  {
   "cell_type": "code",
   "execution_count": null,
   "outputs": [],
   "source": [],
   "metadata": {
    "collapsed": false
   }
  }
 ],
 "metadata": {
  "kernelspec": {
   "display_name": "Python 3 (ipykernel)",
   "language": "python",
   "name": "python3"
  },
  "language_info": {
   "codemirror_mode": {
    "name": "ipython",
    "version": 3
   },
   "file_extension": ".py",
   "mimetype": "text/x-python",
   "name": "python",
   "nbconvert_exporter": "python",
   "pygments_lexer": "ipython3",
   "version": "3.8.0"
  }
 },
 "nbformat": 4,
 "nbformat_minor": 5
}
